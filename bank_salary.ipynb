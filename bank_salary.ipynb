{
 "cells": [
  {
   "cell_type": "markdown",
   "id": "b7fcb460-2041-439f-8ac1-ddadbce3be15",
   "metadata": {},
   "source": [
    "# Bank salary - minorities"
   ]
  },
  {
   "cell_type": "code",
   "execution_count": 15,
   "id": "f75660f0-b760-4f2f-a51b-1e63ad9ede91",
   "metadata": {},
   "outputs": [],
   "source": [
    "# importing libraries\n",
    "import pandas as pd\n",
    "from sklearn.model_selection import train_test_split\n"
   ]
  },
  {
   "cell_type": "markdown",
   "id": "acd0211d-285d-4c77-bcad-fb7e9f698956",
   "metadata": {},
   "source": [
    "## Problem statement\n",
    "\n",
    "Your client an American bank Scrooge McDuck Inc. based in Duckburg wants to know, if there exists a discrimination against minorities through different salaries. He provides you with a dataset containing next to the salaries of its employees information about their start salaries, years of education, gender, and an indicator of being part of a minority. As an expirienced data scientist you clearly know that OLS might help you here to understand the dependencies of the salary on different variables. Find out, if there might be a difference in salary depending on an employee's gender and/or minority affiliation. What role does the job category play?\n",
    "\n",
    "Data Description\n",
    "- SALARY: Yearly salary in US-dollars\n",
    "- LOGSAL: Logarithmised salary\n",
    "- EDUC: Education in years\n",
    "- SALBEGIN: Starting salary\n",
    "- LOGSALBEGIN: Logarithmised starting salary\n",
    "- GENDER: Gender of the employee (0: female, 1: male)\n",
    "- MINORITY: Minority affiliation (0: non minority, 1: minority)\n",
    "- JOBCAT: Job category, with levels (1: admin, 2: custodial and 3: manage).\n",
    "\n",
    "Interesting information missing:\n",
    "- how long is an employee already working in this company.\n",
    "\n",
    "## Plan\n",
    "\n",
    "- importing data\n",
    "- quick look at the data\n",
    "- train test set\n",
    "- data cleaning:\n",
    "    - duplicates\n",
    "    - missing values\n",
    "    - rename columns\n",
    "- EDA:\n",
    "    - Hypothesis 1: Woman have lower salary than men\n",
    "    - H 2: Minorities have lower salary than non minorities\n",
    "    - H 3: More men and non minorities have JOBCAT 3\n",
    "    - H 4: Higher educations will end up in higher JOBCAT\n",
    "    - H 5: Minorities will have less salary raise than non minorities.\n",
    "    \n",
    "    - make some plots to see relationships between target and features (correlation plots / scatter plots)\n",
    "    - maybe need some JOBCAT buckets and have different gender etc. information to be more specific about these problems\n",
    "- Feature engineering:\n",
    "    - dummy form of GENDER, MINORITY and JOBCAT (for modeling)\n",
    "    - percentage of salary raise (H 5)\n",
    "- Predictive modeling:\n",
    "    - target/ y: SALARY\n",
    "    - guess what's most effecting SALARY: EDUC, JOBCAT, GENDER, MINORITY\n",
    "    - PROBLEM: there might be some effects from GENDER/MINORITIES influencing EDUC... be careful about causality!\n",
    "    - start with simple model (binary regression (== linear regression with one feature) with highest correlating features) ... going for multiple linreg\n",
    "    - METRIC: - profiling: adj. R2\n",
    "              - predicting: RMSE\n",
    "- Visualization\n",
    "    - analysing the errors of our model (residual plots)\n",
    "    - presenting results (maybe in a presentation)\n",
    "    "
   ]
  },
  {
   "cell_type": "code",
   "execution_count": 5,
   "id": "f46fc288-bf80-4253-adb7-60b5dc08fa47",
   "metadata": {},
   "outputs": [],
   "source": [
    "# import data\n",
    "bank_salary = pd.read_csv('data/bank_salary_data.asc', delimiter='\\t')"
   ]
  },
  {
   "cell_type": "code",
   "execution_count": 7,
   "id": "13a2ffcd-0b14-4014-9959-5d978abdf95a",
   "metadata": {},
   "outputs": [
    {
     "data": {
      "text/html": [
       "<div>\n",
       "<style scoped>\n",
       "    .dataframe tbody tr th:only-of-type {\n",
       "        vertical-align: middle;\n",
       "    }\n",
       "\n",
       "    .dataframe tbody tr th {\n",
       "        vertical-align: top;\n",
       "    }\n",
       "\n",
       "    .dataframe thead th {\n",
       "        text-align: right;\n",
       "    }\n",
       "</style>\n",
       "<table border=\"1\" class=\"dataframe\">\n",
       "  <thead>\n",
       "    <tr style=\"text-align: right;\">\n",
       "      <th></th>\n",
       "      <th>IDNUMBER</th>\n",
       "      <th>SALARY</th>\n",
       "      <th>LOGSAL</th>\n",
       "      <th>EDUC</th>\n",
       "      <th>SALBEGIN</th>\n",
       "      <th>LOGSALBEGIN</th>\n",
       "      <th>GENDER</th>\n",
       "      <th>MINORITY</th>\n",
       "      <th>JOBCAT</th>\n",
       "    </tr>\n",
       "  </thead>\n",
       "  <tbody>\n",
       "    <tr>\n",
       "      <th>469</th>\n",
       "      <td>470</td>\n",
       "      <td>26250</td>\n",
       "      <td>10.175421</td>\n",
       "      <td>12</td>\n",
       "      <td>15750</td>\n",
       "      <td>9.664596</td>\n",
       "      <td>1</td>\n",
       "      <td>1</td>\n",
       "      <td>1</td>\n",
       "    </tr>\n",
       "    <tr>\n",
       "      <th>470</th>\n",
       "      <td>471</td>\n",
       "      <td>26400</td>\n",
       "      <td>10.181119</td>\n",
       "      <td>15</td>\n",
       "      <td>15750</td>\n",
       "      <td>9.664596</td>\n",
       "      <td>1</td>\n",
       "      <td>1</td>\n",
       "      <td>1</td>\n",
       "    </tr>\n",
       "    <tr>\n",
       "      <th>471</th>\n",
       "      <td>472</td>\n",
       "      <td>39150</td>\n",
       "      <td>10.575156</td>\n",
       "      <td>15</td>\n",
       "      <td>15750</td>\n",
       "      <td>9.664596</td>\n",
       "      <td>1</td>\n",
       "      <td>0</td>\n",
       "      <td>1</td>\n",
       "    </tr>\n",
       "    <tr>\n",
       "      <th>472</th>\n",
       "      <td>473</td>\n",
       "      <td>21450</td>\n",
       "      <td>9.973480</td>\n",
       "      <td>12</td>\n",
       "      <td>12750</td>\n",
       "      <td>9.453287</td>\n",
       "      <td>0</td>\n",
       "      <td>0</td>\n",
       "      <td>1</td>\n",
       "    </tr>\n",
       "    <tr>\n",
       "      <th>473</th>\n",
       "      <td>474</td>\n",
       "      <td>29400</td>\n",
       "      <td>10.288750</td>\n",
       "      <td>12</td>\n",
       "      <td>14250</td>\n",
       "      <td>9.564512</td>\n",
       "      <td>0</td>\n",
       "      <td>0</td>\n",
       "      <td>1</td>\n",
       "    </tr>\n",
       "  </tbody>\n",
       "</table>\n",
       "</div>"
      ],
      "text/plain": [
       "     IDNUMBER  SALARY     LOGSAL  EDUC  SALBEGIN  LOGSALBEGIN  GENDER  \\\n",
       "469       470   26250  10.175421    12     15750     9.664596       1   \n",
       "470       471   26400  10.181119    15     15750     9.664596       1   \n",
       "471       472   39150  10.575156    15     15750     9.664596       1   \n",
       "472       473   21450   9.973480    12     12750     9.453287       0   \n",
       "473       474   29400  10.288750    12     14250     9.564512       0   \n",
       "\n",
       "     MINORITY  JOBCAT  \n",
       "469         1       1  \n",
       "470         1       1  \n",
       "471         0       1  \n",
       "472         0       1  \n",
       "473         0       1  "
      ]
     },
     "execution_count": 7,
     "metadata": {},
     "output_type": "execute_result"
    }
   ],
   "source": [
    "# quick look at data\n",
    "bank_salary.tail()"
   ]
  },
  {
   "cell_type": "code",
   "execution_count": 8,
   "id": "34710003-0bc9-47ea-a279-f9d63fc42d8d",
   "metadata": {},
   "outputs": [
    {
     "name": "stdout",
     "output_type": "stream",
     "text": [
      "<class 'pandas.core.frame.DataFrame'>\n",
      "RangeIndex: 474 entries, 0 to 473\n",
      "Data columns (total 9 columns):\n",
      " #   Column       Non-Null Count  Dtype  \n",
      "---  ------       --------------  -----  \n",
      " 0   IDNUMBER     474 non-null    int64  \n",
      " 1   SALARY       474 non-null    int64  \n",
      " 2   LOGSAL       474 non-null    float64\n",
      " 3   EDUC         474 non-null    int64  \n",
      " 4   SALBEGIN     474 non-null    int64  \n",
      " 5   LOGSALBEGIN  474 non-null    float64\n",
      " 6   GENDER       474 non-null    int64  \n",
      " 7   MINORITY     474 non-null    int64  \n",
      " 8   JOBCAT       474 non-null    int64  \n",
      "dtypes: float64(2), int64(7)\n",
      "memory usage: 33.5 KB\n"
     ]
    }
   ],
   "source": [
    "bank_salary.info()"
   ]
  },
  {
   "cell_type": "markdown",
   "id": "0634f241-eed4-4cdf-b413-d6bcdf60a512",
   "metadata": {},
   "source": [
    "Result: no missing values!"
   ]
  },
  {
   "cell_type": "code",
   "execution_count": 9,
   "id": "4b0f4060-22c4-4bd2-b3c0-8ea4623add83",
   "metadata": {},
   "outputs": [
    {
     "data": {
      "text/html": [
       "<div>\n",
       "<style scoped>\n",
       "    .dataframe tbody tr th:only-of-type {\n",
       "        vertical-align: middle;\n",
       "    }\n",
       "\n",
       "    .dataframe tbody tr th {\n",
       "        vertical-align: top;\n",
       "    }\n",
       "\n",
       "    .dataframe thead th {\n",
       "        text-align: right;\n",
       "    }\n",
       "</style>\n",
       "<table border=\"1\" class=\"dataframe\">\n",
       "  <thead>\n",
       "    <tr style=\"text-align: right;\">\n",
       "      <th></th>\n",
       "      <th>IDNUMBER</th>\n",
       "      <th>SALARY</th>\n",
       "      <th>LOGSAL</th>\n",
       "      <th>EDUC</th>\n",
       "      <th>SALBEGIN</th>\n",
       "      <th>LOGSALBEGIN</th>\n",
       "      <th>GENDER</th>\n",
       "      <th>MINORITY</th>\n",
       "      <th>JOBCAT</th>\n",
       "    </tr>\n",
       "  </thead>\n",
       "  <tbody>\n",
       "    <tr>\n",
       "      <th>count</th>\n",
       "      <td>474.000000</td>\n",
       "      <td>474.000000</td>\n",
       "      <td>474.000000</td>\n",
       "      <td>474.000000</td>\n",
       "      <td>474.000000</td>\n",
       "      <td>474.000000</td>\n",
       "      <td>474.000000</td>\n",
       "      <td>474.000000</td>\n",
       "      <td>474.000000</td>\n",
       "    </tr>\n",
       "    <tr>\n",
       "      <th>mean</th>\n",
       "      <td>237.500000</td>\n",
       "      <td>34419.567511</td>\n",
       "      <td>10.356793</td>\n",
       "      <td>13.491561</td>\n",
       "      <td>17016.086498</td>\n",
       "      <td>9.669405</td>\n",
       "      <td>0.544304</td>\n",
       "      <td>0.219409</td>\n",
       "      <td>1.411392</td>\n",
       "    </tr>\n",
       "    <tr>\n",
       "      <th>std</th>\n",
       "      <td>136.976275</td>\n",
       "      <td>17075.661465</td>\n",
       "      <td>0.397334</td>\n",
       "      <td>2.884846</td>\n",
       "      <td>7870.638154</td>\n",
       "      <td>0.352841</td>\n",
       "      <td>0.498559</td>\n",
       "      <td>0.414284</td>\n",
       "      <td>0.773201</td>\n",
       "    </tr>\n",
       "    <tr>\n",
       "      <th>min</th>\n",
       "      <td>1.000000</td>\n",
       "      <td>15750.000000</td>\n",
       "      <td>9.664596</td>\n",
       "      <td>8.000000</td>\n",
       "      <td>9000.000000</td>\n",
       "      <td>9.104980</td>\n",
       "      <td>0.000000</td>\n",
       "      <td>0.000000</td>\n",
       "      <td>1.000000</td>\n",
       "    </tr>\n",
       "    <tr>\n",
       "      <th>25%</th>\n",
       "      <td>119.250000</td>\n",
       "      <td>24000.000000</td>\n",
       "      <td>10.085809</td>\n",
       "      <td>12.000000</td>\n",
       "      <td>12487.500000</td>\n",
       "      <td>9.432470</td>\n",
       "      <td>0.000000</td>\n",
       "      <td>0.000000</td>\n",
       "      <td>1.000000</td>\n",
       "    </tr>\n",
       "    <tr>\n",
       "      <th>50%</th>\n",
       "      <td>237.500000</td>\n",
       "      <td>28875.000000</td>\n",
       "      <td>10.270728</td>\n",
       "      <td>12.000000</td>\n",
       "      <td>15000.000000</td>\n",
       "      <td>9.615805</td>\n",
       "      <td>1.000000</td>\n",
       "      <td>0.000000</td>\n",
       "      <td>1.000000</td>\n",
       "    </tr>\n",
       "    <tr>\n",
       "      <th>75%</th>\n",
       "      <td>355.750000</td>\n",
       "      <td>36937.500000</td>\n",
       "      <td>10.516969</td>\n",
       "      <td>15.000000</td>\n",
       "      <td>17490.000000</td>\n",
       "      <td>9.769385</td>\n",
       "      <td>1.000000</td>\n",
       "      <td>0.000000</td>\n",
       "      <td>1.000000</td>\n",
       "    </tr>\n",
       "    <tr>\n",
       "      <th>max</th>\n",
       "      <td>474.000000</td>\n",
       "      <td>135000.000000</td>\n",
       "      <td>11.813030</td>\n",
       "      <td>21.000000</td>\n",
       "      <td>79980.000000</td>\n",
       "      <td>11.289532</td>\n",
       "      <td>1.000000</td>\n",
       "      <td>1.000000</td>\n",
       "      <td>3.000000</td>\n",
       "    </tr>\n",
       "  </tbody>\n",
       "</table>\n",
       "</div>"
      ],
      "text/plain": [
       "         IDNUMBER         SALARY      LOGSAL        EDUC      SALBEGIN  \\\n",
       "count  474.000000     474.000000  474.000000  474.000000    474.000000   \n",
       "mean   237.500000   34419.567511   10.356793   13.491561  17016.086498   \n",
       "std    136.976275   17075.661465    0.397334    2.884846   7870.638154   \n",
       "min      1.000000   15750.000000    9.664596    8.000000   9000.000000   \n",
       "25%    119.250000   24000.000000   10.085809   12.000000  12487.500000   \n",
       "50%    237.500000   28875.000000   10.270728   12.000000  15000.000000   \n",
       "75%    355.750000   36937.500000   10.516969   15.000000  17490.000000   \n",
       "max    474.000000  135000.000000   11.813030   21.000000  79980.000000   \n",
       "\n",
       "       LOGSALBEGIN      GENDER    MINORITY      JOBCAT  \n",
       "count   474.000000  474.000000  474.000000  474.000000  \n",
       "mean      9.669405    0.544304    0.219409    1.411392  \n",
       "std       0.352841    0.498559    0.414284    0.773201  \n",
       "min       9.104980    0.000000    0.000000    1.000000  \n",
       "25%       9.432470    0.000000    0.000000    1.000000  \n",
       "50%       9.615805    1.000000    0.000000    1.000000  \n",
       "75%       9.769385    1.000000    0.000000    1.000000  \n",
       "max      11.289532    1.000000    1.000000    3.000000  "
      ]
     },
     "execution_count": 9,
     "metadata": {},
     "output_type": "execute_result"
    }
   ],
   "source": [
    "bank_salary.describe()"
   ]
  },
  {
   "cell_type": "code",
   "execution_count": 16,
   "id": "7f255026-4fae-4020-96a2-b93f003a07a8",
   "metadata": {},
   "outputs": [
    {
     "data": {
      "text/plain": [
       "Index(['IDNUMBER', 'SALARY', 'LOGSAL', 'EDUC', 'SALBEGIN', 'LOGSALBEGIN',\n",
       "       'GENDER', 'MINORITY', 'JOBCAT'],\n",
       "      dtype='object')"
      ]
     },
     "execution_count": 16,
     "metadata": {},
     "output_type": "execute_result"
    }
   ],
   "source": [
    "bank_salary.columns"
   ]
  },
  {
   "cell_type": "markdown",
   "id": "e8bd7eb7-4315-4d19-9ba9-bd5be3838b14",
   "metadata": {},
   "source": [
    "# Train test split"
   ]
  },
  {
   "cell_type": "code",
   "execution_count": 17,
   "id": "771c169c-2f61-4b17-a4bf-b44572798486",
   "metadata": {},
   "outputs": [],
   "source": [
    "X = bank_salary[['IDNUMBER', 'EDUC', 'SALBEGIN', 'LOGSALBEGIN',\n",
    "       'GENDER', 'MINORITY', 'JOBCAT']]\n",
    "y = bank_salary[['SALARY']]\n",
    "\n",
    "X_train, X_test, y_train, y_test = train_test_split(X, y, test_size=0.33, random_state=42)"
   ]
  },
  {
   "cell_type": "code",
   "execution_count": 20,
   "id": "7aa0317c-5680-4ab0-922e-3d05edf9163f",
   "metadata": {},
   "outputs": [],
   "source": [
    "df_train = pd.concat([X_train, y_train], axis=1)"
   ]
  },
  {
   "cell_type": "code",
   "execution_count": 24,
   "id": "e9396ee6-586c-4ffe-9693-218619d21a81",
   "metadata": {},
   "outputs": [
    {
     "data": {
      "text/plain": [
       "array([0, 1])"
      ]
     },
     "execution_count": 24,
     "metadata": {},
     "output_type": "execute_result"
    }
   ],
   "source": [
    "df_train[\"MINORITY\"].unique()"
   ]
  },
  {
   "cell_type": "markdown",
   "id": "64e645a6-d597-4f48-8c11-0d7b8dbff548",
   "metadata": {},
   "source": [
    "# Data cleaning\n",
    "\n",
    "We already saw there are no missing values, and no unreasonable (in general statistics overview (.describe())).\n",
    "Column names are reasonable, we won't change them.\n",
    "\n",
    "We wanted to check for duplicates:"
   ]
  },
  {
   "cell_type": "code",
   "execution_count": 29,
   "id": "a3a04085-ce04-4911-ab37-97a9d0753b29",
   "metadata": {},
   "outputs": [
    {
     "data": {
      "text/plain": [
       "True"
      ]
     },
     "execution_count": 29,
     "metadata": {},
     "output_type": "execute_result"
    }
   ],
   "source": [
    "# checking if no ID is there more than once\n",
    "bank_salary[\"IDNUMBER\"].nunique() == bank_salary.shape[0]"
   ]
  },
  {
   "cell_type": "code",
   "execution_count": null,
   "id": "c7646eba-6cac-4a9e-84e8-816c2d10b595",
   "metadata": {},
   "outputs": [],
   "source": []
  }
 ],
 "metadata": {
  "kernelspec": {
   "display_name": "Python 3 (ipykernel)",
   "language": "python",
   "name": "python3"
  },
  "language_info": {
   "codemirror_mode": {
    "name": "ipython",
    "version": 3
   },
   "file_extension": ".py",
   "mimetype": "text/x-python",
   "name": "python",
   "nbconvert_exporter": "python",
   "pygments_lexer": "ipython3",
   "version": "3.9.8"
  }
 },
 "nbformat": 4,
 "nbformat_minor": 5
}
